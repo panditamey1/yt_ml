{
  "nbformat": 4,
  "nbformat_minor": 0,
  "metadata": {
    "colab": {
      "provenance": [],
      "authorship_tag": "ABX9TyPKzI/mgdTu2HURvwMoVplN",
      "include_colab_link": true
    },
    "kernelspec": {
      "name": "python3",
      "display_name": "Python 3"
    },
    "language_info": {
      "name": "python"
    }
  },
  "cells": [
    {
      "cell_type": "markdown",
      "metadata": {
        "id": "view-in-github",
        "colab_type": "text"
      },
      "source": [
        "<a href=\"https://colab.research.google.com/github/panditamey1/yt_ml/blob/main/ml_lab_maths_addition.ipynb\" target=\"_parent\"><img src=\"https://colab.research.google.com/assets/colab-badge.svg\" alt=\"Open In Colab\"/></a>"
      ]
    },
    {
      "cell_type": "code",
      "execution_count": 11,
      "metadata": {
        "id": "8e3oBuye9COb"
      },
      "outputs": [],
      "source": [
        "import pandas as pd\n",
        "import numpy as np\n",
        "\n",
        "np.random.seed(42)"
      ]
    },
    {
      "cell_type": "code",
      "source": [
        "import torch\n",
        "import numpy as np\n",
        "\n",
        "device = torch.device(\"cuda:0\" if torch.cuda.is_available() else \"cpu\")\n",
        "\n",
        "N = 1000000  # number of samples\n",
        "D = 2  # input dimension\n",
        "C = 1  # output dimension\n",
        "\n",
        "X = torch.rand(N, D).to(device)  # (N, D)\n",
        "y = torch.sum(X, axis=-1).reshape(-1, C)  # (N, C)\n",
        "\n",
        "lr = 1e-2  # Learning rate\n",
        "\n",
        "model = torch.nn.Sequential(torch.nn.Linear(D, C))  # model\n",
        "model.to(device)\n",
        "\n",
        "criterion = torch.nn.MSELoss()  # loss function\n",
        "optimizer = torch.optim.Adam(model.parameters(), lr=lr)  # optimizer\n",
        "\n",
        "for epoch in range(1500):\n",
        "    y_pred = model(X)  # forward step\n",
        "    loss = criterion(y_pred, y)  # compute loss\n",
        "    loss.backward()  # backprop (compute gradients)\n",
        "    optimizer.step()  # update weights (gradient descent step)\n",
        "    optimizer.zero_grad()  # reset gradients\n",
        "    if epoch % 50 == 0:\n",
        "        print(f\"[EPOCH]: {epoch}, [LOSS]: {loss.item():.6f}\")"
      ],
      "metadata": {
        "id": "y9Bd5COj9ysY"
      },
      "execution_count": null,
      "outputs": []
    },
    {
      "cell_type": "code",
      "source": [
        "X.shape"
      ],
      "metadata": {
        "colab": {
          "base_uri": "https://localhost:8080/"
        },
        "id": "55QJi31vMY5b",
        "outputId": "4426fed4-673d-4ffa-c2fd-d5df7105cb0e"
      },
      "execution_count": 20,
      "outputs": [
        {
          "output_type": "execute_result",
          "data": {
            "text/plain": [
              "torch.Size([1000000, 2])"
            ]
          },
          "metadata": {},
          "execution_count": 20
        }
      ]
    },
    {
      "cell_type": "code",
      "source": [
        "input = torch.as_tensor(np.array([[1, 3]]))\n",
        "input.shape\n"
      ],
      "metadata": {
        "colab": {
          "base_uri": "https://localhost:8080/"
        },
        "id": "wMeCysuxMdn8",
        "outputId": "5102dc14-fbbf-439b-a543-f8e38bdf3381"
      },
      "execution_count": 21,
      "outputs": [
        {
          "output_type": "execute_result",
          "data": {
            "text/plain": [
              "torch.Size([1, 2])"
            ]
          },
          "metadata": {},
          "execution_count": 21
        }
      ]
    },
    {
      "cell_type": "code",
      "source": [
        "input = input.type(torch.FloatTensor)\n"
      ],
      "metadata": {
        "id": "lbtaqpaSPVZG"
      },
      "execution_count": 22,
      "outputs": []
    },
    {
      "cell_type": "code",
      "source": [
        "model(input)"
      ],
      "metadata": {
        "colab": {
          "base_uri": "https://localhost:8080/"
        },
        "id": "edCUxP6KMkEA",
        "outputId": "e0faf83c-0d14-4e68-a0e6-568084e1e7b9"
      },
      "execution_count": 23,
      "outputs": [
        {
          "output_type": "execute_result",
          "data": {
            "text/plain": [
              "tensor([[3.9704]], grad_fn=<AddmmBackward0>)"
            ]
          },
          "metadata": {},
          "execution_count": 23
        }
      ]
    },
    {
      "cell_type": "code",
      "source": [],
      "metadata": {
        "id": "tV-ar95JOCeq"
      },
      "execution_count": null,
      "outputs": []
    }
  ]
}