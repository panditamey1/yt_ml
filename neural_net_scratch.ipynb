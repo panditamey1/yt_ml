{
  "nbformat": 4,
  "nbformat_minor": 0,
  "metadata": {
    "colab": {
      "provenance": [],
      "authorship_tag": "ABX9TyNcAiJAr2TlXqUoR0MC9keL",
      "include_colab_link": true
    },
    "kernelspec": {
      "name": "python3",
      "display_name": "Python 3"
    },
    "language_info": {
      "name": "python"
    }
  },
  "cells": [
    {
      "cell_type": "markdown",
      "metadata": {
        "id": "view-in-github",
        "colab_type": "text"
      },
      "source": [
        "<a href=\"https://colab.research.google.com/github/panditamey1/yt_ml/blob/main/neural_net_scratch.ipynb\" target=\"_parent\"><img src=\"https://colab.research.google.com/assets/colab-badge.svg\" alt=\"Open In Colab\"/></a>"
      ]
    },
    {
      "cell_type": "markdown",
      "source": [
        "## Simple neural net\n"
      ],
      "metadata": {
        "id": "u53VE9B36xZr"
      }
    },
    {
      "cell_type": "code",
      "source": [
        "inputs = [0.4,0.6,0.8,1.2]\n",
        "\n",
        "weights = [[0.3,0.5,0.7,-0.2],\n",
        "           [-0.9,0.34,0.23,-0.1],\n",
        "           [0.43,0.228,0.343,0.66]]\n",
        "\n",
        "biases = [0.4,0.6,0.2]\n",
        "\n"
      ],
      "metadata": {
        "id": "k8rsNgIG7GwZ"
      },
      "execution_count": 1,
      "outputs": []
    },
    {
      "cell_type": "code",
      "source": [
        "layer_output = []\n",
        "\n",
        "for neuron_weight, bias in zip(weights, biases):\n",
        "  neuron_output = 0\n",
        "  for input, weight in zip(inputs, neuron_weight):\n",
        "    neuron_output += input * weight \n",
        "  neuron_output += bias\n",
        "  layer_output.append(neuron_output)"
      ],
      "metadata": {
        "id": "iab0P1r38AqQ"
      },
      "execution_count": 2,
      "outputs": []
    },
    {
      "cell_type": "code",
      "source": [
        "layer_output"
      ],
      "metadata": {
        "colab": {
          "base_uri": "https://localhost:8080/"
        },
        "id": "R77ztueX9RRx",
        "outputId": "bea9fe23-7e9d-48c2-a86a-5b4bbb64768a"
      },
      "execution_count": 3,
      "outputs": [
        {
          "output_type": "execute_result",
          "data": {
            "text/plain": [
              "[1.1400000000000001, 0.508, 1.5752]"
            ]
          },
          "metadata": {},
          "execution_count": 3
        }
      ]
    },
    {
      "cell_type": "code",
      "source": [],
      "metadata": {
        "id": "pofrvFrF9Sj-"
      },
      "execution_count": null,
      "outputs": []
    }
  ]
}