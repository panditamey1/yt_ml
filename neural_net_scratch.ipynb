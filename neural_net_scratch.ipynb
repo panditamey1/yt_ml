{
  "nbformat": 4,
  "nbformat_minor": 0,
  "metadata": {
    "colab": {
      "provenance": [],
      "authorship_tag": "ABX9TyM1np8r8EnZgjTD7essfsyl",
      "include_colab_link": true
    },
    "kernelspec": {
      "name": "python3",
      "display_name": "Python 3"
    },
    "language_info": {
      "name": "python"
    }
  },
  "cells": [
    {
      "cell_type": "markdown",
      "metadata": {
        "id": "view-in-github",
        "colab_type": "text"
      },
      "source": [
        "<a href=\"https://colab.research.google.com/github/panditamey1/yt_ml/blob/main/neural_net_scratch.ipynb\" target=\"_parent\"><img src=\"https://colab.research.google.com/assets/colab-badge.svg\" alt=\"Open In Colab\"/></a>"
      ]
    },
    {
      "cell_type": "markdown",
      "source": [
        "## Simple neural net\n"
      ],
      "metadata": {
        "id": "u53VE9B36xZr"
      }
    },
    {
      "cell_type": "code",
      "source": [
        "inputs = [0.4,0.6,0.8,1.2]\n",
        "\n",
        "weights = [[0.3,0.5,0.7,-0.2],\n",
        "           [-0.9,0.34,0.23,-0.1],\n",
        "           [0.43,0.228,0.343,0.66]]\n",
        "\n",
        "biases = [0.4,0.6,0.2]\n",
        "\n"
      ],
      "metadata": {
        "id": "k8rsNgIG7GwZ"
      },
      "execution_count": 1,
      "outputs": []
    },
    {
      "cell_type": "code",
      "source": [
        "layer_output = []\n",
        "\n",
        "for neuron_weight, bias in zip(weights, biases):\n",
        "  neuron_output = 0\n",
        "  for input, weight in zip(inputs, neuron_weight):\n",
        "    neuron_output += input * weight \n",
        "  neuron_output += bias\n",
        "  layer_output.append(neuron_output)"
      ],
      "metadata": {
        "id": "iab0P1r38AqQ"
      },
      "execution_count": 2,
      "outputs": []
    },
    {
      "cell_type": "code",
      "source": [
        "layer_output"
      ],
      "metadata": {
        "colab": {
          "base_uri": "https://localhost:8080/"
        },
        "id": "R77ztueX9RRx",
        "outputId": "bea9fe23-7e9d-48c2-a86a-5b4bbb64768a"
      },
      "execution_count": 3,
      "outputs": [
        {
          "output_type": "execute_result",
          "data": {
            "text/plain": [
              "[1.1400000000000001, 0.508, 1.5752]"
            ]
          },
          "metadata": {},
          "execution_count": 3
        }
      ]
    },
    {
      "cell_type": "code",
      "source": [],
      "metadata": {
        "id": "pofrvFrF9Sj-"
      },
      "execution_count": null,
      "outputs": []
    },
    {
      "cell_type": "markdown",
      "source": [
        "## Vectorize\n"
      ],
      "metadata": {
        "id": "d8VeNvQh9hgU"
      }
    },
    {
      "cell_type": "code",
      "source": [
        "import numpy as np\n"
      ],
      "metadata": {
        "id": "ztRquQtY9lQb"
      },
      "execution_count": 4,
      "outputs": []
    },
    {
      "cell_type": "markdown",
      "source": [
        "face well-known error"
      ],
      "metadata": {
        "id": "YT2x1j6h_CgZ"
      }
    },
    {
      "cell_type": "code",
      "source": [
        "output = np.dot(inputs, weights) +  biases"
      ],
      "metadata": {
        "colab": {
          "base_uri": "https://localhost:8080/",
          "height": 200
        },
        "id": "G8N0Eo8b-pZR",
        "outputId": "370fe52b-c744-450d-e805-7cab406292c8"
      },
      "execution_count": 5,
      "outputs": [
        {
          "output_type": "error",
          "ename": "ValueError",
          "evalue": "ignored",
          "traceback": [
            "\u001b[0;31m---------------------------------------------------------------------------\u001b[0m",
            "\u001b[0;31mValueError\u001b[0m                                Traceback (most recent call last)",
            "\u001b[0;32m<ipython-input-5-09645eac573b>\u001b[0m in \u001b[0;36m<module>\u001b[0;34m\u001b[0m\n\u001b[0;32m----> 1\u001b[0;31m \u001b[0moutput\u001b[0m \u001b[0;34m=\u001b[0m \u001b[0mnp\u001b[0m\u001b[0;34m.\u001b[0m\u001b[0mdot\u001b[0m\u001b[0;34m(\u001b[0m\u001b[0minputs\u001b[0m\u001b[0;34m,\u001b[0m \u001b[0mweights\u001b[0m\u001b[0;34m)\u001b[0m \u001b[0;34m+\u001b[0m  \u001b[0mbiases\u001b[0m\u001b[0;34m\u001b[0m\u001b[0;34m\u001b[0m\u001b[0m\n\u001b[0m",
            "\u001b[0;32m<__array_function__ internals>\u001b[0m in \u001b[0;36mdot\u001b[0;34m(*args, **kwargs)\u001b[0m\n",
            "\u001b[0;31mValueError\u001b[0m: shapes (4,) and (3,4) not aligned: 4 (dim 0) != 3 (dim 0)"
          ]
        }
      ]
    },
    {
      "cell_type": "code",
      "source": [
        "output = np.dot( weights, inputs) +  biases"
      ],
      "metadata": {
        "id": "RgnYQlr5-voO"
      },
      "execution_count": 6,
      "outputs": []
    },
    {
      "cell_type": "code",
      "source": [
        "output"
      ],
      "metadata": {
        "colab": {
          "base_uri": "https://localhost:8080/"
        },
        "id": "7EMU_qNP-0gq",
        "outputId": "15aae247-00c6-4264-8aaf-a77d7acdc0b2"
      },
      "execution_count": 7,
      "outputs": [
        {
          "output_type": "execute_result",
          "data": {
            "text/plain": [
              "array([1.14  , 0.508 , 1.5752])"
            ]
          },
          "metadata": {},
          "execution_count": 7
        }
      ]
    },
    {
      "cell_type": "code",
      "source": [],
      "metadata": {
        "id": "ZgSXkFwc--11"
      },
      "execution_count": null,
      "outputs": []
    },
    {
      "cell_type": "markdown",
      "source": [
        "Batch\n"
      ],
      "metadata": {
        "id": "lMllyOs9_ear"
      }
    },
    {
      "cell_type": "markdown",
      "source": [
        "create new input"
      ],
      "metadata": {
        "id": "zyAhu-ew_fbl"
      }
    },
    {
      "cell_type": "code",
      "source": [
        "inputs = [[0.4,0.6,0.8,1.2],\n",
        "          [0.2,0.1,0.4,1.9],\n",
        "          [0.12,0.9,1.8,2.2]]\n",
        "\n",
        "weights = [[0.3,0.5,0.7,-0.2],\n",
        "           [-0.9,0.34,0.23,-0.1],\n",
        "           [0.43,0.228,0.343,0.66]]\n",
        "\n",
        "biases = [0.4,0.6,0.2]"
      ],
      "metadata": {
        "id": "UfhTaDu1_wMG"
      },
      "execution_count": 9,
      "outputs": []
    },
    {
      "cell_type": "code",
      "source": [
        "inputs = np.array(inputs)\n",
        "weights = np.array(weights)"
      ],
      "metadata": {
        "id": "c1DBBdenAmEo"
      },
      "execution_count": 11,
      "outputs": []
    },
    {
      "cell_type": "code",
      "source": [
        "inputs.shape"
      ],
      "metadata": {
        "colab": {
          "base_uri": "https://localhost:8080/"
        },
        "id": "JLm8I36wAoIB",
        "outputId": "c5b3d30e-5853-4fe0-e10b-e010965e5e57"
      },
      "execution_count": 12,
      "outputs": [
        {
          "output_type": "execute_result",
          "data": {
            "text/plain": [
              "(3, 4)"
            ]
          },
          "metadata": {},
          "execution_count": 12
        }
      ]
    },
    {
      "cell_type": "code",
      "source": [
        "weights.shape"
      ],
      "metadata": {
        "colab": {
          "base_uri": "https://localhost:8080/"
        },
        "id": "1bAYwbGqA_6W",
        "outputId": "990578e5-2485-45bd-87eb-9568c387bc7b"
      },
      "execution_count": 13,
      "outputs": [
        {
          "output_type": "execute_result",
          "data": {
            "text/plain": [
              "(3, 4)"
            ]
          },
          "metadata": {},
          "execution_count": 13
        }
      ]
    },
    {
      "cell_type": "markdown",
      "source": [
        "Look at different dimension"
      ],
      "metadata": {
        "id": "JqYvZvRYBBfL"
      }
    },
    {
      "cell_type": "code",
      "source": [
        "outputs = np.dot(inputs, weights.T) + biases"
      ],
      "metadata": {
        "id": "3sbFeHvSBJyk"
      },
      "execution_count": 15,
      "outputs": []
    },
    {
      "cell_type": "code",
      "source": [
        "outputs"
      ],
      "metadata": {
        "colab": {
          "base_uri": "https://localhost:8080/"
        },
        "id": "rQJf27cBBMrT",
        "outputId": "04677c82-bfd2-4e36-8c19-d0dec85eb3a5"
      },
      "execution_count": 16,
      "outputs": [
        {
          "output_type": "execute_result",
          "data": {
            "text/plain": [
              "array([[1.14  , 0.508 , 1.5752],\n",
              "       [0.41  , 0.356 , 1.7   ],\n",
              "       [1.706 , 0.992 , 2.5262]])"
            ]
          },
          "metadata": {},
          "execution_count": 16
        }
      ]
    },
    {
      "cell_type": "code",
      "source": [
        "outputs.shape"
      ],
      "metadata": {
        "colab": {
          "base_uri": "https://localhost:8080/"
        },
        "id": "o_xtoyAyBSGs",
        "outputId": "4bd68752-9f70-4882-8bbf-2724bc79760c"
      },
      "execution_count": 19,
      "outputs": [
        {
          "output_type": "execute_result",
          "data": {
            "text/plain": [
              "(3, 3)"
            ]
          },
          "metadata": {},
          "execution_count": 19
        }
      ]
    },
    {
      "cell_type": "markdown",
      "source": [
        "## add another layer"
      ],
      "metadata": {
        "id": "aoTxfPgfBiQs"
      }
    },
    {
      "cell_type": "code",
      "source": [
        "weights2 = [[0.1,0.4,0.9],\n",
        "           [-0.3,0.55,0.26],\n",
        "           [0.23,0.9,0.876]]\n",
        "\n",
        "biases2 = [0.1,0.8,0.4]"
      ],
      "metadata": {
        "id": "QFAP_cMCBkOC"
      },
      "execution_count": 20,
      "outputs": []
    },
    {
      "cell_type": "code",
      "source": [
        "layer2_outputs = np.dot(outputs, np.array(weights2).T) + biases2"
      ],
      "metadata": {
        "id": "8-3D_Mi2B-EF"
      },
      "execution_count": 21,
      "outputs": []
    },
    {
      "cell_type": "code",
      "source": [
        "layer2_outputs"
      ],
      "metadata": {
        "colab": {
          "base_uri": "https://localhost:8080/"
        },
        "id": "g9HAsiTuCH_0",
        "outputId": "da5f0fef-ab41-49b0-9bc8-df4000a79062"
      },
      "execution_count": 22,
      "outputs": [
        {
          "output_type": "execute_result",
          "data": {
            "text/plain": [
              "array([[1.83488  , 1.146952 , 2.4992752],\n",
              "       [1.8134   , 1.3148   , 2.3039   ],\n",
              "       [2.94098  , 1.490612 , 3.8981312]])"
            ]
          },
          "metadata": {},
          "execution_count": 22
        }
      ]
    },
    {
      "cell_type": "code",
      "source": [],
      "metadata": {
        "id": "awqx40eSCbXY"
      },
      "execution_count": null,
      "outputs": []
    },
    {
      "cell_type": "markdown",
      "source": [
        "## Make a object"
      ],
      "metadata": {
        "id": "yIP3-v6ACdDa"
      }
    },
    {
      "cell_type": "code",
      "source": [
        "class Layer_Dense:\n",
        "  def __init__(self):\n",
        "    pass\n",
        "  def forward(self):\n",
        "    pass"
      ],
      "metadata": {
        "id": "vS4pRi_CCkTt"
      },
      "execution_count": 24,
      "outputs": []
    },
    {
      "cell_type": "code",
      "source": [
        "class Layer_Dense:\n",
        "  def __init__(self, n_inputs, n_neurons):\n",
        "    self.weights = 0.10 * np.random.randn(n_inputs, n_neurons)\n",
        "    self.biases = np.zeros((1,n_neurons))\n",
        "  def forward(self, inputs):\n",
        "    self.output = np.dot(inputs, self.weights) + self.biases"
      ],
      "metadata": {
        "id": "uheAo26qCvhH"
      },
      "execution_count": 33,
      "outputs": []
    },
    {
      "cell_type": "code",
      "source": [
        "layer1 = Layer_Dense(4,5)\n",
        "layer2 = Layer_Dense(5,2)"
      ],
      "metadata": {
        "id": "amAM_xe2D-k2"
      },
      "execution_count": 39,
      "outputs": []
    },
    {
      "cell_type": "code",
      "source": [
        "X = np.array(inputs)"
      ],
      "metadata": {
        "id": "BdGnbHyHESSY"
      },
      "execution_count": 35,
      "outputs": []
    },
    {
      "cell_type": "code",
      "source": [
        "X.shape"
      ],
      "metadata": {
        "colab": {
          "base_uri": "https://localhost:8080/"
        },
        "id": "bM-ef_-9FSSb",
        "outputId": "7b4d6aa3-6074-4971-9d72-1af94a3b5822"
      },
      "execution_count": 36,
      "outputs": [
        {
          "output_type": "execute_result",
          "data": {
            "text/plain": [
              "(3, 4)"
            ]
          },
          "metadata": {},
          "execution_count": 36
        }
      ]
    },
    {
      "cell_type": "code",
      "source": [
        "layer1.forward(X)"
      ],
      "metadata": {
        "id": "3OuG6bpcEYg9"
      },
      "execution_count": 37,
      "outputs": []
    },
    {
      "cell_type": "code",
      "source": [
        "layer1.output"
      ],
      "metadata": {
        "colab": {
          "base_uri": "https://localhost:8080/"
        },
        "id": "8EFCCQoWEjOJ",
        "outputId": "2cc34efc-9481-4c5a-ef24-e32917c1b53f"
      },
      "execution_count": 38,
      "outputs": [
        {
          "output_type": "execute_result",
          "data": {
            "text/plain": [
              "array([[ 0.12218471, -0.0392895 , -0.21178052,  0.02848441,  0.071278  ],\n",
              "       [ 0.29866358,  0.05519039, -0.19971919, -0.06131904,  0.09888654],\n",
              "       [ 0.24881626, -0.09094588, -0.29419477, -0.01962595,  0.09917357]])"
            ]
          },
          "metadata": {},
          "execution_count": 38
        }
      ]
    },
    {
      "cell_type": "code",
      "source": [
        "layer2.forward(layer1.output)"
      ],
      "metadata": {
        "id": "MJawMJaZGI8v"
      },
      "execution_count": 42,
      "outputs": []
    },
    {
      "cell_type": "code",
      "source": [
        "layer2.output"
      ],
      "metadata": {
        "colab": {
          "base_uri": "https://localhost:8080/"
        },
        "id": "JId_GJLAGWsT",
        "outputId": "f23d236f-6d5e-4bba-e60c-f61d6bc2eabb"
      },
      "execution_count": 43,
      "outputs": [
        {
          "output_type": "execute_result",
          "data": {
            "text/plain": [
              "array([[0.05109919, 0.0045299 ],\n",
              "       [0.06627417, 0.03479291],\n",
              "       [0.08462919, 0.01038968]])"
            ]
          },
          "metadata": {},
          "execution_count": 43
        }
      ]
    },
    {
      "cell_type": "code",
      "source": [],
      "metadata": {
        "id": "6mDKl4_1G3In"
      },
      "execution_count": null,
      "outputs": []
    }
  ]
}